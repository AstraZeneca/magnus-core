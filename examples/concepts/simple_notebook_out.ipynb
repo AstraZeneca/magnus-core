{
 "cells": [
  {
   "cell_type": "code",
   "execution_count": 1,
   "id": "02d63323",
   "metadata": {
    "ploomber": {
     "timestamp_end": 1707888034.186718,
     "timestamp_start": 1707888034.186525
    },
    "tags": [
     "injected-parameters"
    ]
   },
   "outputs": [],
   "source": [
    "# Injected parameters\n"
   ]
  },
  {
   "cell_type": "code",
   "execution_count": 2,
   "id": "3e98e89e-765c-42d4-81ea-c371c2eab14d",
   "metadata": {
    "ploomber": {
     "timestamp_end": 1707888034.186921,
     "timestamp_start": 1707888034.18674
    }
   },
   "outputs": [],
   "source": [
    "def add(x, y):\n",
    "    return x + y"
   ]
  },
  {
   "cell_type": "code",
   "execution_count": 3,
   "id": "9f1cbac6-cada-42b0-8fb1-ddb25a88836c",
   "metadata": {
    "ploomber": {
     "timestamp_end": 1707888034.187058,
     "timestamp_start": 1707888034.186934
    }
   },
   "outputs": [],
   "source": [
    "def multiply(x, y):\n",
    "    return x * y"
   ]
  },
  {
   "cell_type": "code",
   "execution_count": 4,
   "id": "9dcadc93-aa77-4a0a-9465-2e33eef4da44",
   "metadata": {
    "ploomber": {
     "timestamp_end": 1707888034.187196,
     "timestamp_start": 1707888034.18707
    }
   },
   "outputs": [],
   "source": [
    "a = add(40, 2)"
   ]
  },
  {
   "cell_type": "code",
   "execution_count": 5,
   "id": "7b872cdf-820b-47b5-8f22-15c4b69c8637",
   "metadata": {
    "ploomber": {
     "timestamp_end": 1707888034.187316,
     "timestamp_start": 1707888034.187208
    }
   },
   "outputs": [],
   "source": [
    "b = multiply(2, 100)"
   ]
  }
 ],
 "metadata": {
  "kernelspec": {
   "display_name": "Python 3 (ipykernel)",
   "language": "python",
   "name": "python3"
  },
  "language_info": {
   "codemirror_mode": {
    "name": "ipython",
    "version": 3
   },
   "file_extension": ".py",
   "mimetype": "text/x-python",
   "name": "python",
   "nbconvert_exporter": "python",
   "pygments_lexer": "ipython3",
   "version": "3.8.16"
  }
 },
 "nbformat": 4,
 "nbformat_minor": 5
}
