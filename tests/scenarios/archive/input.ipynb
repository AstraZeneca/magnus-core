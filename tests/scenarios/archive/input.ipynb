{
 "cells": [
  {
   "cell_type": "code",
   "execution_count": 1,
   "id": "aggregate-issue",
   "metadata": {
    "execution": {
     "iopub.execute_input": "2022-02-04T14:28:34.741059Z",
     "iopub.status.busy": "2022-02-04T14:28:34.739648Z",
     "iopub.status.idle": "2022-02-04T14:28:34.742651Z",
     "shell.execute_reply": "2022-02-04T14:28:34.743442Z"
    },
    "papermill": {
     "duration": 0.029046,
     "end_time": "2022-02-04T14:28:34.744121",
     "exception": false,
     "start_time": "2022-02-04T14:28:34.715075",
     "status": "completed"
    },
    "tags": [
     "parameters"
    ]
   },
   "outputs": [],
   "source": [
    "msg = None"
   ]
  },
  {
   "cell_type": "code",
   "execution_count": 2,
   "id": "28f19654",
   "metadata": {
    "execution": {
     "iopub.execute_input": "2022-02-04T14:28:34.770267Z",
     "iopub.status.busy": "2022-02-04T14:28:34.769350Z",
     "iopub.status.idle": "2022-02-04T14:28:34.771241Z",
     "shell.execute_reply": "2022-02-04T14:28:34.771681Z"
    },
    "papermill": {
     "duration": 0.015649,
     "end_time": "2022-02-04T14:28:34.771892",
     "exception": false,
     "start_time": "2022-02-04T14:28:34.756243",
     "status": "completed"
    },
    "tags": [
     "injected-parameters"
    ]
   },
   "outputs": [],
   "source": []
  },
  {
   "cell_type": "code",
   "execution_count": 3,
   "id": "clean-belfast",
   "metadata": {
    "execution": {
     "iopub.execute_input": "2022-02-04T14:28:34.796281Z",
     "iopub.status.busy": "2022-02-04T14:28:34.795522Z",
     "iopub.status.idle": "2022-02-04T14:28:34.799091Z",
     "shell.execute_reply": "2022-02-04T14:28:34.799654Z"
    },
    "papermill": {
     "duration": 0.018377,
     "end_time": "2022-02-04T14:28:34.799857",
     "exception": false,
     "start_time": "2022-02-04T14:28:34.781480",
     "status": "completed"
    },
    "tags": []
   },
   "outputs": [
    {
     "name": "stdout",
     "output_type": "stream",
     "text": [
      "hello\n"
     ]
    }
   ],
   "source": [
    "print(msg)"
   ]
  },
  {
   "cell_type": "code",
   "execution_count": null,
   "id": "convenient-adjustment",
   "metadata": {
    "papermill": {
     "duration": 0.011496,
     "end_time": "2022-02-04T14:28:34.823424",
     "exception": false,
     "start_time": "2022-02-04T14:28:34.811928",
     "status": "completed"
    },
    "tags": []
   },
   "outputs": [],
   "source": [
    "from magnus import magnus_session\n",
    "\n",
    "magnus_session()"
   ]
  }
 ],
 "metadata": {
  "celltoolbar": "Tags",
  "kernelspec": {
   "display_name": "magnus-DErr9fJO-py3.8",
   "language": "python",
   "name": "python3"
  },
  "language_info": {
   "codemirror_mode": {
    "name": "ipython",
    "version": 3
   },
   "file_extension": ".py",
   "mimetype": "text/x-python",
   "name": "python",
   "nbconvert_exporter": "python",
   "pygments_lexer": "ipython3",
   "version": "3.8.13 (default, Jan  9 2023, 10:00:25) \n[Clang 14.0.0 (clang-1400.0.29.202)]"
  },
  "papermill": {
   "default_parameters": {},
   "duration": 1.94479,
   "end_time": "2022-02-04T14:28:35.167342",
   "environment_variables": {},
   "exception": null,
   "input_path": "input.ipynb",
   "output_path": "input.ipynb",
   "parameters": {
    "msg": "hello"
   },
   "start_time": "2022-02-04T14:28:33.222552",
   "version": "2.3.4"
  },
  "vscode": {
   "interpreter": {
    "hash": "dfd8d094d5db4af2e9fdaf00242a57c27f89d29bba160bde85b773fe4c5c37e5"
   }
  }
 },
 "nbformat": 4,
 "nbformat_minor": 5
}
