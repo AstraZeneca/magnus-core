{
 "cells": [
  {
   "cell_type": "code",
   "execution_count": 1,
   "id": "aggregate-issue",
   "metadata": {
    "execution": {
     "iopub.execute_input": "2022-02-06T21:34:52.997833Z",
     "iopub.status.busy": "2022-02-06T21:34:52.996709Z",
     "iopub.status.idle": "2022-02-06T21:34:52.999011Z",
     "shell.execute_reply": "2022-02-06T21:34:52.999512Z"
    },
    "papermill": {
     "duration": 0.029469,
     "end_time": "2022-02-06T21:34:52.999744",
     "exception": false,
     "start_time": "2022-02-06T21:34:52.970275",
     "status": "completed"
    },
    "tags": [
     "parameters"
    ]
   },
   "outputs": [],
   "source": [
    "msg = None"
   ]
  },
  {
   "cell_type": "code",
   "execution_count": 2,
   "id": "b537ca1f",
   "metadata": {
    "execution": {
     "iopub.execute_input": "2022-02-06T21:34:53.028385Z",
     "iopub.status.busy": "2022-02-06T21:34:53.026455Z",
     "iopub.status.idle": "2022-02-06T21:34:53.030260Z",
     "shell.execute_reply": "2022-02-06T21:34:53.030890Z"
    },
    "papermill": {
     "duration": 0.019758,
     "end_time": "2022-02-06T21:34:53.031177",
     "exception": false,
     "start_time": "2022-02-06T21:34:53.011419",
     "status": "completed"
    },
    "tags": [
     "injected-parameters"
    ]
   },
   "outputs": [],
   "source": [
    "# Parameters\n",
    "msg = \"hello\"\n"
   ]
  },
  {
   "cell_type": "code",
   "execution_count": 3,
   "id": "clean-belfast",
   "metadata": {
    "execution": {
     "iopub.execute_input": "2022-02-06T21:34:53.055557Z",
     "iopub.status.busy": "2022-02-06T21:34:53.054609Z",
     "iopub.status.idle": "2022-02-06T21:34:53.058079Z",
     "shell.execute_reply": "2022-02-06T21:34:53.058549Z"
    },
    "papermill": {
     "duration": 0.017318,
     "end_time": "2022-02-06T21:34:53.058723",
     "exception": false,
     "start_time": "2022-02-06T21:34:53.041405",
     "status": "completed"
    },
    "tags": []
   },
   "outputs": [
    {
     "name": "stdout",
     "output_type": "stream",
     "text": [
      "hello\n"
     ]
    }
   ],
   "source": [
    "print(msg)"
   ]
  },
  {
   "cell_type": "code",
   "execution_count": null,
   "id": "convenient-adjustment",
   "metadata": {
    "papermill": {
     "duration": 0.012439,
     "end_time": "2022-02-06T21:34:53.082020",
     "exception": false,
     "start_time": "2022-02-06T21:34:53.069581",
     "status": "completed"
    },
    "tags": []
   },
   "outputs": [],
   "source": []
  }
 ],
 "metadata": {
  "celltoolbar": "Tags",
  "kernelspec": {
   "display_name": "Python 3",
   "language": "python",
   "name": "python3"
  },
  "language_info": {
   "codemirror_mode": {
    "name": "ipython",
    "version": 3
   },
   "file_extension": ".py",
   "mimetype": "text/x-python",
   "name": "python",
   "nbconvert_exporter": "python",
   "pygments_lexer": "ipython3",
   "version": "3.7.3"
  },
  "papermill": {
   "default_parameters": {},
   "duration": 3.12809,
   "end_time": "2022-02-06T21:34:53.324219",
   "environment_variables": {},
   "exception": null,
   "input_path": "tests/scenarios/input.ipynb",
   "output_path": "tests/scenarios/input_out.ipynb",
   "parameters": {
    "msg": "hello"
   },
   "start_time": "2022-02-06T21:34:50.196129",
   "version": "2.3.4"
  }
 },
 "nbformat": 4,
 "nbformat_minor": 5
}
